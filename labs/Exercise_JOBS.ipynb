{
  "nbformat": 4,
  "nbformat_minor": 0,
  "metadata": {
    "colab": {
      "name": "Exercise JOBS.ipynb",
      "provenance": [],
      "collapsed_sections": [],
      "authorship_tag": "ABX9TyO7BzgCvjOrvpjz1HtuCvOo",
      "include_colab_link": true
    },
    "kernelspec": {
      "name": "python3",
      "display_name": "Python 3"
    },
    "language_info": {
      "name": "python"
    }
  },
  "cells": [
    {
      "cell_type": "markdown",
      "metadata": {
        "id": "view-in-github",
        "colab_type": "text"
      },
      "source": [
        "<a href=\"https://colab.research.google.com/github/dmachlanski/iads-summer-school-causality-2022/blob/main/labs/Exercise_JOBS.ipynb\" target=\"_parent\"><img src=\"https://colab.research.google.com/assets/colab-badge.svg\" alt=\"Open In Colab\"/></a>"
      ]
    },
    {
      "cell_type": "markdown",
      "metadata": {
        "id": "aWjBdjQOWfFQ"
      },
      "source": [
        "# Causal Inference - Exercise (JOBS)\n",
        "\n",
        "This is an optional exercise for anyone going quicker throught the labs than anticipated. We leave here very little instructions to let people approach the problem however they want, though it can be tackled in a similar manner as the IHDP one.\n",
        "\n",
        "This dataset, proposed by [A. Smith and E. Todd (2005)](https://ideas.repec.org/a/eee/econom/v125y2005i1-2p305-353.html), is a combination of the experiment done by [LaLonde (1986)](https://www.jstor.org/stable/1806062) as part of the National Supported Work Program (NSWP) and observational data from the Panel Study of Income Dynamics (PSID) [(Dehejia and Wahba 2002)](https://ideas.repec.org/a/tpr/restat/v84y2002i1p151-161.html). Overall, the data captures people’s basic characteristics, whether they received a job training from NSWP (the treatment), and finally their employment status (the outcome).\n",
        "\n",
        "JOBS consists of 17 background features (mixture of continuous and binary), a binary treatment, and a binary outcome. It includes 3,212 samples, of which 297/2,915 are treated/control units.\n",
        "\n",
        "The dataset can be accessed [here](https://github.com/dmachlanski/iads-summer-school-causality-2022/tree/main/labs/data). URLs to training and testing parts of the data:\n",
        "- https://github.com/dmachlanski/iads-summer-school-causality-2022/raw/main/labs/data/jobs_train.npz\n",
        "- https://github.com/dmachlanski/iads-summer-school-causality-2022/raw/main/labs/data/jobs_test.npz"
      ]
    },
    {
      "cell_type": "markdown",
      "metadata": {
        "id": "BFCl5pNy27S2"
      },
      "source": [
        "Contrary to previous examples, a different set of evaluation mertics is usually used against JOBS. These are: a) Average Treatment effect on the Treated (ATT), and b) policy risk. They are formally defined as follows.\n",
        "\n",
        "Given a set of treated subjects $T$ that are part of sample $E$ coming from an experimental study, and a set of control group $C$, define ATT as:\n",
        "\n",
        "$$ATT = \\frac{1}{|T|}\\sum \\limits_{i \\in T}\\mathcal{Y}^{(i)} - \\frac{1}{|C \\cap E|}\\sum \\limits_{i \\in C \\cap E}\\mathcal{Y}^{(i)}$$\n",
        "\n",
        "The error on ATT is then defined as the absolute difference between the true and predicted ATT:\n",
        "\n",
        "$$\\epsilon_{ATT} = \\left| ATT - \\frac{1}{|T|}\\sum \\limits_{i \\in T} (\\hat{y}_1^{(i)}-\\hat{y}_0^{(i)}) \\right|$$\n",
        "\n",
        "Policy risk can be defined as:\n",
        "\n",
        "$$\\mathcal{R}_{pol} = 1 - (\\mathbb{E}\\left [ \\mathcal{Y}_1|\\pi(x)=1 \\right ] \\mathcal{P}(\\pi(x)=1) + \\mathbb{E}\\left [ \\mathcal{Y}_0|\\pi(x)=0 \\right ] \\mathcal{P}(\\pi(x)=0))$$\n",
        "\n",
        "Where $\\mathbb{E}[.]$ denotes mathematical expectation and policy $\\pi$ becomes $\\pi(x)=1$ if $\\hat{y}_1 - \\hat{y}_0 > 0$; $\\pi(x)=0$ otherwise.\n",
        "\n",
        "The code provided below computes both $\\epsilon_{ATT}$ and $\\mathcal{R}_{pol}$ given predicted effects. Apart from the background (X), treatment (T) and outcome (Y) covariates, the dataset also contains information whether a unit comes from an experimental study (E), which is required to compute the metrics as well."
      ]
    },
    {
      "cell_type": "code",
      "metadata": {
        "id": "inAxrdv8IY-I"
      },
      "source": [
        "def calc_stats(y, t, e, te_pred):\n",
        "    att = np.mean(y[t > 0]) - np.mean(y[(1 - t + e) > 1])\n",
        "\n",
        "    att_pred = np.mean(te_pred[(t + e) > 1])\n",
        "    bias_att = att_pred - att\n",
        "\n",
        "    policy_value = policy_val(y, t, e, te_pred[e > 0])\n",
        "\n",
        "    eps_att = np.abs(bias_att)\n",
        "    r_pol = 1 - policy_value\n",
        "    return eps_att, r_pol\n",
        "\t\n",
        "def policy_val(y, t, e, te_pred):\n",
        "    t_e = t[e > 0]\n",
        "    y_e = y[e > 0]\n",
        "\n",
        "    if np.any(np.isnan(te_pred)):\n",
        "        return np.nan, np.nan\n",
        "\n",
        "    policy = te_pred > 0.0\n",
        "    treat_overlap = (policy == t_e) * (t_e > 0)\n",
        "    control_overlap = (policy == t_e) * (t_e < 1)\n",
        "\n",
        "    if np.sum(treat_overlap) == 0:\n",
        "        treat_value = 0\n",
        "    else:\n",
        "        treat_value = np.mean(y_e[treat_overlap])\n",
        "\n",
        "    if np.sum(control_overlap) == 0:\n",
        "        control_value = 0\n",
        "    else:\n",
        "        control_value = np.mean(y_e[control_overlap])\n",
        "\n",
        "    pit = np.mean(policy)\n",
        "    policy_value = pit * treat_value + (1 - pit) * control_value\n",
        "\n",
        "    return policy_value"
      ],
      "execution_count": null,
      "outputs": []
    }
  ]
}